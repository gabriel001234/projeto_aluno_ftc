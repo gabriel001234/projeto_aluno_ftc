{
 "cells": [
  {
   "cell_type": "markdown",
   "id": "6a8e3d56-3259-41e5-821f-8065a2b0b3b4",
   "metadata": {},
   "source": [
    "# Imports"
   ]
  },
  {
   "cell_type": "code",
   "execution_count": 1,
   "id": "52de6d3d-269f-46a4-83bd-b292dd00cdef",
   "metadata": {},
   "outputs": [],
   "source": [
    "import pandas as pd"
   ]
  },
  {
   "cell_type": "markdown",
   "id": "cd6886bd-ddb7-4dce-8b6c-106a3f8ecbe1",
   "metadata": {},
   "source": [
    "# Constantes"
   ]
  },
  {
   "cell_type": "code",
   "execution_count": 2,
   "id": "7efacdc2-1b60-4529-ad3a-e4e8c0f79885",
   "metadata": {},
   "outputs": [],
   "source": [
    "path = '../datasets/raw/zomato.csv'"
   ]
  },
  {
   "cell_type": "markdown",
   "id": "77643504-7f63-4438-a830-facba5db868c",
   "metadata": {},
   "source": [
    "# Funções"
   ]
  },
  {
   "cell_type": "code",
   "execution_count": 3,
   "id": "4f57fac3-6a93-4431-81c1-1805e79ac11f",
   "metadata": {},
   "outputs": [],
   "source": [
    "def country_name(country_id):\n",
    "    COUNTRIES = {\n",
    "        1: \"India\",\n",
    "        14: \"Australia\",\n",
    "        30: \"Brazil\",\n",
    "        37: \"Canada\",\n",
    "        94: \"Indonesia\",\n",
    "        148: \"New Zeland\",\n",
    "        162: \"Philippines\",\n",
    "        166: \"Qatar\",\n",
    "        184: \"Singapure\",\n",
    "        189: \"South Africa\",\n",
    "        191: \"Sri Lanka\",\n",
    "        208: \"Turkey\",\n",
    "        214: \"United Arab Emirates\",\n",
    "        215: \"England\",\n",
    "        216: \"United States of America\"\n",
    "}\n",
    "    \n",
    "    return COUNTRIES[country_id]\n",
    "\n",
    "def create_price_type(price_range):\n",
    "    return ['_', 'cheap', 'normal', 'expensive', 'gourmet'][price_range]\n",
    "\n",
    "def color_name(color_code):\n",
    "    COLORS = {\n",
    "        \"3F7E00\": \"darkgreen\",\n",
    "        \"5BA829\": \"green\",\n",
    "        \"9ACD32\": \"lightgreen\",\n",
    "        \"CDD614\": \"orange\",\n",
    "        \"FFBA00\": \"red\",\n",
    "        \"CBCBC8\": \"darkred\",\n",
    "        \"FF7800\": \"darkred\"\n",
    "}\n",
    "    \n",
    "    return COLORS[color_code]\n",
    "\n",
    "def rename_columns(df):\n",
    "    snakecase = lambda x: x.lower()\n",
    "    spaces = lambda x: x.replace(\" \", \"_\")\n",
    "    cols_old = list(df.columns)\n",
    "    cols_old = list(map(spaces, cols_old))\n",
    "    cols_new = list(map(snakecase, cols_old))\n",
    "    df.columns = cols_new\n",
    "    \n",
    "    return df\n",
    "\n",
    "def clean_data(df):\n",
    "    df_clean = df.copy()\n",
    "    \n",
    "    df_clean = df_clean.dropna()\n",
    "\n",
    "    df_clean = rename_columns(df_clean)\n",
    "    \n",
    "    df_clean['price_type'] = df_clean['price_range'].apply(lambda x: create_price_type(x))\n",
    "    df_clean['rating_color_name'] = df_clean['rating_color'].apply(lambda x: color_name(x))\n",
    "    df_clean['country'] = df_clean['country_code'].apply(lambda x: country_name(x))\n",
    "    df_clean['cuisines'] = df_clean['cuisines'].apply(lambda x: x.split(',')[0])\n",
    "\n",
    "    df_clean = df_clean.drop_duplicates()\n",
    "\n",
    "    df_clean = df_clean.loc[:, [\n",
    "        'restaurant_id',\n",
    "        'restaurant_name',\n",
    "        'country',\n",
    "        'city',\n",
    "        'address',\n",
    "        'locality',\n",
    "        'locality_verbose',\n",
    "        'longitude',\n",
    "        'latitude',\n",
    "        'cuisines',\n",
    "        'average_cost_for_two',\n",
    "        'currency',\n",
    "        'has_table_booking',\n",
    "        'has_online_delivery',\n",
    "        'is_delivering_now',\n",
    "        'switch_to_order_menu',\n",
    "        'price_type',\n",
    "        'aggregate_rating',\n",
    "        'rating_color_name',\n",
    "        'rating_text',\n",
    "        'votes',\n",
    "    ]]\n",
    "\n",
    "    df_clean.to_csv('../datasets/clean/zomato.csv', index=False)\n",
    "    \n",
    "    return df_clean"
   ]
  },
  {
   "cell_type": "markdown",
   "id": "9f2b1103-7041-40e6-a35f-57e43b0d8e25",
   "metadata": {},
   "source": [
    "# Carga dos dados"
   ]
  },
  {
   "cell_type": "code",
   "execution_count": 4,
   "id": "9cf9de72-feab-42ef-8d86-f84228ef9153",
   "metadata": {},
   "outputs": [],
   "source": [
    "df = pd.read_csv(path)"
   ]
  },
  {
   "cell_type": "markdown",
   "id": "b7f92bb2-72f0-43c7-a29f-32bfb28541ef",
   "metadata": {},
   "source": [
    "# Limpeza dos dados"
   ]
  },
  {
   "cell_type": "code",
   "execution_count": 5,
   "id": "eb8f9bf8-7021-4e37-bc11-0c6e7a3a3721",
   "metadata": {},
   "outputs": [],
   "source": [
    "df1 = clean_data(df)"
   ]
  },
  {
   "cell_type": "markdown",
   "id": "c33daf8d-10f6-4ffc-ad53-a808dd75a094",
   "metadata": {},
   "source": [
    "# Perguntas de negócio"
   ]
  },
  {
   "cell_type": "markdown",
   "id": "5ebc02e5-5fb6-4b3e-bcdd-0442ce52a338",
   "metadata": {},
   "source": [
    "## Geral"
   ]
  },
  {
   "cell_type": "markdown",
   "id": "4e604867-efc2-436e-909b-9ebafc2464be",
   "metadata": {},
   "source": [
    "### 1. Quantos restaurantes únicos estão registrados?"
   ]
  },
  {
   "cell_type": "code",
   "execution_count": 6,
   "id": "e0c4f6c5-8305-4eb8-aa86-68feab3c701a",
   "metadata": {},
   "outputs": [
    {
     "data": {
      "text/plain": [
       "6929"
      ]
     },
     "execution_count": 6,
     "metadata": {},
     "output_type": "execute_result"
    }
   ],
   "source": [
    "df1['restaurant_id'].nunique()"
   ]
  },
  {
   "cell_type": "markdown",
   "id": "4e1fc52a-fd9f-446b-adf7-42aeab679717",
   "metadata": {},
   "source": [
    "### 2. Quantos países únicos estão registrados?"
   ]
  },
  {
   "cell_type": "code",
   "execution_count": 7,
   "id": "225d0769-f61d-4e39-aacf-de39d81e1f36",
   "metadata": {},
   "outputs": [
    {
     "data": {
      "text/plain": [
       "15"
      ]
     },
     "execution_count": 7,
     "metadata": {},
     "output_type": "execute_result"
    }
   ],
   "source": [
    "df1['country'].nunique()"
   ]
  },
  {
   "cell_type": "markdown",
   "id": "ebeb6a7c-ecae-4380-94ec-2deed07136df",
   "metadata": {},
   "source": [
    "### 3. Quantas cidades únicas estão registradas?"
   ]
  },
  {
   "cell_type": "code",
   "execution_count": 8,
   "id": "ef453dfc-6693-4380-ba3d-73f71a864523",
   "metadata": {},
   "outputs": [
    {
     "data": {
      "text/plain": [
       "125"
      ]
     },
     "execution_count": 8,
     "metadata": {},
     "output_type": "execute_result"
    }
   ],
   "source": [
    "df1['city'].nunique()"
   ]
  },
  {
   "cell_type": "markdown",
   "id": "9bccf03d-ac8c-485e-a8d5-02a0b97d80b7",
   "metadata": {},
   "source": [
    "### 4. Qual o total de avaliações feitas?"
   ]
  },
  {
   "cell_type": "code",
   "execution_count": 9,
   "id": "22e86b02-4e43-4c28-b408-4d999e372773",
   "metadata": {},
   "outputs": [
    {
     "data": {
      "text/plain": [
       "4194533"
      ]
     },
     "execution_count": 9,
     "metadata": {},
     "output_type": "execute_result"
    }
   ],
   "source": [
    "df1['votes'].sum()           "
   ]
  },
  {
   "cell_type": "markdown",
   "id": "26293ba2-2dca-4e6e-9333-46c8ea42cd20",
   "metadata": {},
   "source": [
    "### 5. Qual o total de tipos de culinária registrados?"
   ]
  },
  {
   "cell_type": "code",
   "execution_count": 10,
   "id": "cc7f1934-ebd8-4110-8fe2-0a083fd7c0dc",
   "metadata": {},
   "outputs": [
    {
     "data": {
      "text/plain": [
       "165"
      ]
     },
     "execution_count": 10,
     "metadata": {},
     "output_type": "execute_result"
    }
   ],
   "source": [
    "df1['cuisines'].nunique()"
   ]
  },
  {
   "cell_type": "markdown",
   "id": "c717fc07-fd11-456e-a663-d55be8caa641",
   "metadata": {},
   "source": [
    "## País"
   ]
  },
  {
   "cell_type": "markdown",
   "id": "592c6be0-ca5f-468f-9545-791dd2790db1",
   "metadata": {},
   "source": [
    "### 1. Qual o nome do país que possui mais cidades registradas?"
   ]
  },
  {
   "cell_type": "code",
   "execution_count": 11,
   "id": "a510be93-6cba-4351-8891-41e7d0825bce",
   "metadata": {},
   "outputs": [
    {
     "data": {
      "text/plain": [
       "'India'"
      ]
     },
     "execution_count": 11,
     "metadata": {},
     "output_type": "execute_result"
    }
   ],
   "source": [
    "df1.loc[:, ['city', 'country']].groupby('country').nunique().reset_index().sort_values('city', ascending=False).iloc[0, 0]"
   ]
  },
  {
   "cell_type": "markdown",
   "id": "9c4979cb-4ee2-486d-be5f-25189251fa7f",
   "metadata": {},
   "source": [
    "### 2. Qual o nome do país que possui mais restaurantes registrados?"
   ]
  },
  {
   "cell_type": "code",
   "execution_count": 12,
   "id": "d0244743-ef21-4c72-9e44-134882102be9",
   "metadata": {},
   "outputs": [
    {
     "data": {
      "text/plain": [
       "'India'"
      ]
     },
     "execution_count": 12,
     "metadata": {},
     "output_type": "execute_result"
    }
   ],
   "source": [
    "df1.loc[:, ['restaurant_id', 'country']].groupby('country').nunique().reset_index().sort_values('restaurant_id', ascending=False).iloc[0, 0]"
   ]
  },
  {
   "cell_type": "code",
   "execution_count": null,
   "id": "0e91d73f-2367-4434-8ff6-8b30b8b36fff",
   "metadata": {},
   "outputs": [],
   "source": []
  },
  {
   "cell_type": "markdown",
   "id": "ee29ea30-0d45-476a-8204-d82f1f94fd01",
   "metadata": {},
   "source": [
    "### 3. Qual o nome do país que possui mais restaurantes com o nível de preço igual a 4 registrados?\r"
   ]
  },
  {
   "cell_type": "code",
   "execution_count": 13,
   "id": "7f6a0611-f91b-4539-94eb-021fad2a82f9",
   "metadata": {},
   "outputs": [
    {
     "data": {
      "text/plain": [
       "'United States of America'"
      ]
     },
     "execution_count": 13,
     "metadata": {},
     "output_type": "execute_result"
    }
   ],
   "source": [
    "df1.loc[df1['price_type'] == 'gourmet', ['price_type', 'country']].groupby('country').count().reset_index().sort_values('price_type', ascending=False).iloc[0,0]"
   ]
  },
  {
   "cell_type": "markdown",
   "id": "029eeac0-1a98-4b9e-ba6b-c3782c124180",
   "metadata": {},
   "source": [
    "### 4. Qual o nome do país que possui a maior quantidade de tipos de culinária distintos?"
   ]
  },
  {
   "cell_type": "code",
   "execution_count": 14,
   "id": "5467d5eb-bc5f-40a9-84a7-228f64e150f8",
   "metadata": {},
   "outputs": [
    {
     "data": {
      "text/plain": [
       "'India'"
      ]
     },
     "execution_count": 14,
     "metadata": {},
     "output_type": "execute_result"
    }
   ],
   "source": [
    "df1.loc[:, ['cuisines', 'country']].groupby('country').nunique().reset_index().sort_values('cuisines', ascending=False).iloc[0, 0]"
   ]
  },
  {
   "cell_type": "markdown",
   "id": "bfd651a7-22a4-401d-aac5-bf43ed9eb601",
   "metadata": {},
   "source": [
    "### 5. Qual o nome do país que possui a maior quantidade de avaliações feitas?"
   ]
  },
  {
   "cell_type": "code",
   "execution_count": 15,
   "id": "674655ff-86de-47c8-bd41-e483c7ab0d88",
   "metadata": {},
   "outputs": [
    {
     "data": {
      "text/plain": [
       "'India'"
      ]
     },
     "execution_count": 15,
     "metadata": {},
     "output_type": "execute_result"
    }
   ],
   "source": [
    "df1.loc[:, ['votes', 'country']].groupby('country').nunique().reset_index().sort_values('votes', ascending=False).iloc[0, 0]"
   ]
  },
  {
   "cell_type": "markdown",
   "id": "111d77a2-8e6a-43ba-b21d-66dfbf897c06",
   "metadata": {},
   "source": [
    "### 6. Qual o nome do país que possui a maior quantidade de restaurantes que fazem entrega?\n"
   ]
  },
  {
   "cell_type": "code",
   "execution_count": 16,
   "id": "4d892a55-f869-4b35-8f3f-82f284b3b04e",
   "metadata": {},
   "outputs": [
    {
     "data": {
      "text/plain": [
       "'India'"
      ]
     },
     "execution_count": 16,
     "metadata": {},
     "output_type": "execute_result"
    }
   ],
   "source": [
    "df1.loc[df1['is_delivering_now'] == 1, ['restaurant_id', 'country']].groupby('country').count().reset_index().sort_values('restaurant_id', ascending=False).iloc[0,0]"
   ]
  },
  {
   "cell_type": "markdown",
   "id": "0567a93a-24cd-4ac4-b666-032553475b5a",
   "metadata": {},
   "source": [
    "### 7. Qual o nome do país que possui a maior quantidade de restaurantes que aceitam reservas?"
   ]
  },
  {
   "cell_type": "code",
   "execution_count": 17,
   "id": "aba42a76-6426-4e3e-8224-b5ab728f9d80",
   "metadata": {},
   "outputs": [
    {
     "data": {
      "text/plain": [
       "'India'"
      ]
     },
     "execution_count": 17,
     "metadata": {},
     "output_type": "execute_result"
    }
   ],
   "source": [
    "df1.loc[df1['has_table_booking'] == 1, ['restaurant_id', 'country']].groupby('country').count().reset_index().sort_values('restaurant_id', ascending=False).iloc[0,0]"
   ]
  },
  {
   "cell_type": "markdown",
   "id": "6dfafdf2-1e24-4b98-aa66-45f78dc8bc67",
   "metadata": {},
   "source": [
    "### 8. Qual o nome do país que possui, na média, a maior quantidade de avaliações registrada?\n"
   ]
  },
  {
   "cell_type": "code",
   "execution_count": 18,
   "id": "37a8f7e6-3221-45e9-8004-e8872bf85fcf",
   "metadata": {},
   "outputs": [
    {
     "data": {
      "text/plain": [
       "'Indonesia'"
      ]
     },
     "execution_count": 18,
     "metadata": {},
     "output_type": "execute_result"
    }
   ],
   "source": [
    "df1.loc[:, ['votes', 'country']].groupby('country').mean().reset_index().sort_values('votes', ascending=False).iloc[0, 0]"
   ]
  },
  {
   "cell_type": "markdown",
   "id": "2d303556-ac3c-4990-b399-8825983805e9",
   "metadata": {},
   "source": [
    "### 9. Qual o nome do país que possui, na média, a maior nota média registrada?"
   ]
  },
  {
   "cell_type": "code",
   "execution_count": 19,
   "id": "40dbbccf-9166-4048-ac52-4e676bc1693e",
   "metadata": {},
   "outputs": [
    {
     "data": {
      "text/plain": [
       "'Indonesia'"
      ]
     },
     "execution_count": 19,
     "metadata": {},
     "output_type": "execute_result"
    }
   ],
   "source": [
    "df1.loc[:, ['aggregate_rating', 'country']].groupby('country').mean().reset_index().sort_values('aggregate_rating', ascending=False).iloc[0, 0]"
   ]
  },
  {
   "cell_type": "markdown",
   "id": "34311016-a5e1-4923-90e7-61880ebec4c2",
   "metadata": {},
   "source": [
    "### 10. Qual o nome do país que possui, na média, a menor nota média registrada?"
   ]
  },
  {
   "cell_type": "code",
   "execution_count": 20,
   "id": "d795b628-6649-4e65-869c-d2724be80135",
   "metadata": {},
   "outputs": [
    {
     "data": {
      "text/plain": [
       "'Brazil'"
      ]
     },
     "execution_count": 20,
     "metadata": {},
     "output_type": "execute_result"
    }
   ],
   "source": [
    "df1.loc[:, ['aggregate_rating', 'country']].groupby('country').mean().reset_index().sort_values('aggregate_rating', ascending=True).iloc[0, 0]"
   ]
  },
  {
   "cell_type": "markdown",
   "id": "0bdbb429-4480-47f7-8cec-4fd13d78d922",
   "metadata": {},
   "source": [
    "### 11. Qual a média de preço de um prato para dois por país?"
   ]
  },
  {
   "cell_type": "code",
   "execution_count": 21,
   "id": "6d008f4b-8387-4834-9f51-66e993e432a7",
   "metadata": {},
   "outputs": [
    {
     "data": {
      "text/html": [
       "<div>\n",
       "<style scoped>\n",
       "    .dataframe tbody tr th:only-of-type {\n",
       "        vertical-align: middle;\n",
       "    }\n",
       "\n",
       "    .dataframe tbody tr th {\n",
       "        vertical-align: top;\n",
       "    }\n",
       "\n",
       "    .dataframe thead th {\n",
       "        text-align: right;\n",
       "    }\n",
       "</style>\n",
       "<table border=\"1\" class=\"dataframe\">\n",
       "  <thead>\n",
       "    <tr style=\"text-align: right;\">\n",
       "      <th></th>\n",
       "      <th>country</th>\n",
       "      <th>average_cost_for_two</th>\n",
       "    </tr>\n",
       "  </thead>\n",
       "  <tbody>\n",
       "    <tr>\n",
       "      <th>5</th>\n",
       "      <td>Indonesia</td>\n",
       "      <td>303000.000000</td>\n",
       "    </tr>\n",
       "    <tr>\n",
       "      <th>0</th>\n",
       "      <td>Australia</td>\n",
       "      <td>138959.783333</td>\n",
       "    </tr>\n",
       "    <tr>\n",
       "      <th>11</th>\n",
       "      <td>Sri Lanka</td>\n",
       "      <td>2579.375000</td>\n",
       "    </tr>\n",
       "    <tr>\n",
       "      <th>7</th>\n",
       "      <td>Philippines</td>\n",
       "      <td>1227.825000</td>\n",
       "    </tr>\n",
       "    <tr>\n",
       "      <th>4</th>\n",
       "      <td>India</td>\n",
       "      <td>704.400514</td>\n",
       "    </tr>\n",
       "    <tr>\n",
       "      <th>10</th>\n",
       "      <td>South Africa</td>\n",
       "      <td>339.228324</td>\n",
       "    </tr>\n",
       "    <tr>\n",
       "      <th>8</th>\n",
       "      <td>Qatar</td>\n",
       "      <td>174.000000</td>\n",
       "    </tr>\n",
       "    <tr>\n",
       "      <th>13</th>\n",
       "      <td>United Arab Emirates</td>\n",
       "      <td>153.716667</td>\n",
       "    </tr>\n",
       "    <tr>\n",
       "      <th>9</th>\n",
       "      <td>Singapure</td>\n",
       "      <td>141.437500</td>\n",
       "    </tr>\n",
       "    <tr>\n",
       "      <th>1</th>\n",
       "      <td>Brazil</td>\n",
       "      <td>138.812500</td>\n",
       "    </tr>\n",
       "    <tr>\n",
       "      <th>12</th>\n",
       "      <td>Turkey</td>\n",
       "      <td>128.584906</td>\n",
       "    </tr>\n",
       "    <tr>\n",
       "      <th>6</th>\n",
       "      <td>New Zeland</td>\n",
       "      <td>62.154812</td>\n",
       "    </tr>\n",
       "    <tr>\n",
       "      <th>14</th>\n",
       "      <td>United States of America</td>\n",
       "      <td>55.029840</td>\n",
       "    </tr>\n",
       "    <tr>\n",
       "      <th>3</th>\n",
       "      <td>England</td>\n",
       "      <td>43.510000</td>\n",
       "    </tr>\n",
       "    <tr>\n",
       "      <th>2</th>\n",
       "      <td>Canada</td>\n",
       "      <td>41.861111</td>\n",
       "    </tr>\n",
       "  </tbody>\n",
       "</table>\n",
       "</div>"
      ],
      "text/plain": [
       "                     country  average_cost_for_two\n",
       "5                  Indonesia         303000.000000\n",
       "0                  Australia         138959.783333\n",
       "11                 Sri Lanka           2579.375000\n",
       "7                Philippines           1227.825000\n",
       "4                      India            704.400514\n",
       "10              South Africa            339.228324\n",
       "8                      Qatar            174.000000\n",
       "13      United Arab Emirates            153.716667\n",
       "9                  Singapure            141.437500\n",
       "1                     Brazil            138.812500\n",
       "12                    Turkey            128.584906\n",
       "6                 New Zeland             62.154812\n",
       "14  United States of America             55.029840\n",
       "3                    England             43.510000\n",
       "2                     Canada             41.861111"
      ]
     },
     "execution_count": 21,
     "metadata": {},
     "output_type": "execute_result"
    }
   ],
   "source": [
    "df1.loc[:, ['average_cost_for_two', 'country']].groupby('country').mean().reset_index().sort_values('average_cost_for_two', ascending=False)"
   ]
  },
  {
   "cell_type": "markdown",
   "id": "87479d52-a2c0-48a3-902b-5a7ff1249dc9",
   "metadata": {},
   "source": [
    "## Cidade"
   ]
  },
  {
   "cell_type": "markdown",
   "id": "116c35eb-08ec-4ecd-a41b-01cb3d5d836d",
   "metadata": {},
   "source": [
    "### 1. Qual o nome da cidade que possui mais restaurantes registrados?"
   ]
  },
  {
   "cell_type": "code",
   "execution_count": 22,
   "id": "da896800-07c0-43d9-9fc7-ad6959d8df86",
   "metadata": {},
   "outputs": [
    {
     "data": {
      "text/plain": [
       "'Abu Dhabi'"
      ]
     },
     "execution_count": 22,
     "metadata": {},
     "output_type": "execute_result"
    }
   ],
   "source": [
    "df1.loc[:, ['restaurant_id', 'city']].groupby('city').count().reset_index().sort_values('restaurant_id', ascending=False).iloc[0, 0]"
   ]
  },
  {
   "cell_type": "markdown",
   "id": "35ab3bec-a00c-4f63-9bc3-386d3f719817",
   "metadata": {},
   "source": [
    "### 2. Qual o nome da cidade que possui mais restaurantes com nota média acima de 4?"
   ]
  },
  {
   "cell_type": "code",
   "execution_count": 23,
   "id": "0e69ef86-a0eb-4fe1-8df3-5f9f4b5de7ee",
   "metadata": {},
   "outputs": [
    {
     "data": {
      "text/plain": [
       "'London'"
      ]
     },
     "execution_count": 23,
     "metadata": {},
     "output_type": "execute_result"
    }
   ],
   "source": [
    "df1.loc[df1['aggregate_rating'] >= 4, ['restaurant_id', 'city']].groupby('city').count().reset_index().sort_values('restaurant_id', ascending=False).iloc[0, 0]"
   ]
  },
  {
   "cell_type": "markdown",
   "id": "fcd10938-d8de-4317-926b-b7e688a9ee78",
   "metadata": {},
   "source": [
    "### 3. Qual o nome da cidade que possui mais restaurantes com nota média abaixo de 2.5?"
   ]
  },
  {
   "cell_type": "code",
   "execution_count": 24,
   "id": "ac8c692a-8d41-46d3-bae6-434b4cf3a026",
   "metadata": {},
   "outputs": [
    {
     "data": {
      "text/plain": [
       "'Gangtok'"
      ]
     },
     "execution_count": 24,
     "metadata": {},
     "output_type": "execute_result"
    }
   ],
   "source": [
    "df1.loc[df1['aggregate_rating'] <= 2.5, ['restaurant_id', 'city']].groupby('city').count().reset_index().sort_values('restaurant_id', ascending=False).iloc[0, 0]"
   ]
  },
  {
   "cell_type": "markdown",
   "id": "b94f32d8-4552-4328-9c85-5b017e75b895",
   "metadata": {},
   "source": [
    "### 4. Qual o nome da cidade que possui o maior valor médio de um prato para dois?"
   ]
  },
  {
   "cell_type": "code",
   "execution_count": 25,
   "id": "a8d7aac4-0bfc-47fc-8b4a-9a888cbe8741",
   "metadata": {},
   "outputs": [
    {
     "data": {
      "text/plain": [
       "'Adelaide'"
      ]
     },
     "execution_count": 25,
     "metadata": {},
     "output_type": "execute_result"
    }
   ],
   "source": [
    "df1.loc[:, ['average_cost_for_two', 'city']].groupby('city').mean().reset_index().sort_values('average_cost_for_two', ascending=False).iloc[0, 0]"
   ]
  },
  {
   "cell_type": "markdown",
   "id": "64548976-74e4-41ec-bf78-e1b514b5624a",
   "metadata": {},
   "source": [
    "### 5. Qual o nome da cidade que possui a maior quantidade de tipos de culinária distintas?\n"
   ]
  },
  {
   "cell_type": "code",
   "execution_count": 26,
   "id": "7c534c27-db83-49d6-ac6e-4ec5d771ef98",
   "metadata": {},
   "outputs": [
    {
     "data": {
      "text/plain": [
       "'Birmingham'"
      ]
     },
     "execution_count": 26,
     "metadata": {},
     "output_type": "execute_result"
    }
   ],
   "source": [
    "df1.loc[:, ['cuisines', 'city']].groupby('city').nunique().reset_index().sort_values('cuisines', ascending=False).iloc[0, 0]"
   ]
  },
  {
   "cell_type": "markdown",
   "id": "7f55aa13-73c1-4e7a-8cdd-ecbba05fba0f",
   "metadata": {},
   "source": [
    "### 6. Qual o nome da cidade que possui a maior quantidade de restaurantes que fazem reservas?\n",
    "\r"
   ]
  },
  {
   "cell_type": "code",
   "execution_count": 27,
   "id": "d7b67580-2e0d-438a-b52e-47196ca93b0c",
   "metadata": {},
   "outputs": [
    {
     "data": {
      "text/plain": [
       "'Bangalore'"
      ]
     },
     "execution_count": 27,
     "metadata": {},
     "output_type": "execute_result"
    }
   ],
   "source": [
    "df1.loc[df1['has_table_booking'] == 1, ['restaurant_id', 'city']].groupby('city').count().reset_index().sort_values('restaurant_id', ascending=False).iloc[0, 0]"
   ]
  },
  {
   "cell_type": "markdown",
   "id": "bb68f5ce-3a91-4932-8f6c-6570fc3e79a4",
   "metadata": {},
   "source": [
    "### 7. Qual o nome da cidade que possui a maior quantidade de restaurantes que fazem entregas?"
   ]
  },
  {
   "cell_type": "code",
   "execution_count": 28,
   "id": "6f50d1d5-fcdf-4976-8a74-fa6c7a7a821c",
   "metadata": {},
   "outputs": [
    {
     "data": {
      "text/plain": [
       "'Vadodara'"
      ]
     },
     "execution_count": 28,
     "metadata": {},
     "output_type": "execute_result"
    }
   ],
   "source": [
    "df1.loc[df1['is_delivering_now'] == 1, ['restaurant_id', 'city']].groupby('city').count().reset_index().sort_values('restaurant_id', ascending=False).iloc[0, 0]"
   ]
  },
  {
   "cell_type": "markdown",
   "id": "77946d72-6eb2-4e6b-b69f-077a19652ddb",
   "metadata": {},
   "source": [
    "### 8. Qual o nome da cidade que possui a maior quantidade de restaurantes que aceitam pedidos online?\n"
   ]
  },
  {
   "cell_type": "code",
   "execution_count": 29,
   "id": "21125a21-5c73-4fa8-912f-17dc280411c1",
   "metadata": {},
   "outputs": [
    {
     "data": {
      "text/plain": [
       "'Bhopal'"
      ]
     },
     "execution_count": 29,
     "metadata": {},
     "output_type": "execute_result"
    }
   ],
   "source": [
    "df1.loc[df1['has_online_delivery'] == 1, ['restaurant_id', 'city']].groupby('city').count().reset_index().sort_values('restaurant_id', ascending=False).iloc[0, 0]"
   ]
  },
  {
   "cell_type": "markdown",
   "id": "fd91ff58-9360-45c9-9d6a-5956fb249415",
   "metadata": {},
   "source": [
    "## Restaurantes"
   ]
  },
  {
   "cell_type": "markdown",
   "id": "f8ebb9e5-7665-4a3f-82f2-46cc6fd3f4b3",
   "metadata": {},
   "source": [
    "### 1. Qual o nome do restaurante que possui a maior quantidade de avaliações?"
   ]
  },
  {
   "cell_type": "code",
   "execution_count": 30,
   "id": "79207d17-4339-4ae3-9065-8f1e323b6866",
   "metadata": {},
   "outputs": [
    {
     "data": {
      "text/plain": [
       "'Bawarchi'"
      ]
     },
     "execution_count": 30,
     "metadata": {},
     "output_type": "execute_result"
    }
   ],
   "source": [
    "df1.loc[:, ['restaurant_id', 'restaurant_name', 'votes']].sort_values(['votes', 'restaurant_id'], ascending=[False, True]).iloc[0, 1]"
   ]
  },
  {
   "cell_type": "markdown",
   "id": "fd4d6483-8969-4326-8cba-3cc746178ff5",
   "metadata": {},
   "source": [
    "### 2. Qual o nome do restaurante com a maior nota média?"
   ]
  },
  {
   "cell_type": "code",
   "execution_count": 31,
   "id": "3a79dc19-e0e9-4503-9714-7e5cdeb6d34e",
   "metadata": {},
   "outputs": [
    {
     "data": {
      "text/plain": [
       "'Indian Grill Room'"
      ]
     },
     "execution_count": 31,
     "metadata": {},
     "output_type": "execute_result"
    }
   ],
   "source": [
    "df1.loc[:, ['restaurant_id', 'restaurant_name', 'aggregate_rating']].sort_values(['aggregate_rating', 'restaurant_id'], ascending=[False, True]).iloc[0, 1]"
   ]
  },
  {
   "cell_type": "markdown",
   "id": "f5004518-9ddc-4411-9467-44e9ed2ee522",
   "metadata": {},
   "source": [
    "### 3. Qual o nome do restaurante que possui o maior valor de uma prato para duas pessoas?\n",
    "\r"
   ]
  },
  {
   "cell_type": "code",
   "execution_count": 32,
   "id": "fcfab0be-77fe-4a95-b2d5-a1f8f685954a",
   "metadata": {},
   "outputs": [
    {
     "data": {
      "text/plain": [
       "\"d'Arry's Verandah Restaurant\""
      ]
     },
     "execution_count": 32,
     "metadata": {},
     "output_type": "execute_result"
    }
   ],
   "source": [
    "df1.loc[:, ['restaurant_id', 'restaurant_name', 'average_cost_for_two']].sort_values(['average_cost_for_two', 'restaurant_id'], ascending=[False, True]).iloc[0, 1]"
   ]
  },
  {
   "cell_type": "markdown",
   "id": "5c9f77c2-ee78-406f-84ed-0ccd99ff1071",
   "metadata": {},
   "source": [
    "### 4. Qual o nome do restaurante de tipo de culinária brasileira que possui a menor média de avaliação?"
   ]
  },
  {
   "cell_type": "code",
   "execution_count": 33,
   "id": "5764579a-734d-4af6-8d6f-96353d764bc5",
   "metadata": {},
   "outputs": [
    {
     "data": {
      "text/plain": [
       "'Loca Como tu Madre'"
      ]
     },
     "execution_count": 33,
     "metadata": {},
     "output_type": "execute_result"
    }
   ],
   "source": [
    "df1.loc[df1['cuisines'] == 'Brazilian', ['restaurant_id', 'restaurant_name', 'aggregate_rating']].sort_values(['aggregate_rating', 'restaurant_id'], ascending=[True, True]).iloc[0, 1]"
   ]
  },
  {
   "cell_type": "markdown",
   "id": "728e81a0-0c58-4d4d-8cb4-7be0ea405ab8",
   "metadata": {},
   "source": [
    "### 5. Qual o nome do restaurante de tipo de culinária brasileira, e que é do Brasil, que possui a maior média de avaliação?\n"
   ]
  },
  {
   "cell_type": "code",
   "execution_count": 34,
   "id": "616282cb-39b7-4f54-a6f0-2842e5d6a166",
   "metadata": {},
   "outputs": [
    {
     "data": {
      "text/plain": [
       "'Braseiro da Gávea'"
      ]
     },
     "execution_count": 34,
     "metadata": {},
     "output_type": "execute_result"
    }
   ],
   "source": [
    "df1.loc[(df1['cuisines'] == 'Brazilian') & (df1['country'] == 'Brazil'), ['restaurant_id', 'restaurant_name', 'aggregate_rating']].sort_values(['aggregate_rating', 'restaurant_id'], ascending=[False, True]).iloc[0, 1]"
   ]
  },
  {
   "cell_type": "markdown",
   "id": "13dac3ed-a2a7-4a29-bece-876d00532ffd",
   "metadata": {},
   "source": [
    "### 6. Os restaurantes que aceitam pedido online são também, na média, os restaurantes que mais possuem avaliações registradas?\n"
   ]
  },
  {
   "cell_type": "code",
   "execution_count": 35,
   "id": "6db6f682-439b-4964-b8f3-56b3f153ea87",
   "metadata": {},
   "outputs": [
    {
     "data": {
      "text/html": [
       "<div>\n",
       "<style scoped>\n",
       "    .dataframe tbody tr th:only-of-type {\n",
       "        vertical-align: middle;\n",
       "    }\n",
       "\n",
       "    .dataframe tbody tr th {\n",
       "        vertical-align: top;\n",
       "    }\n",
       "\n",
       "    .dataframe thead th {\n",
       "        text-align: right;\n",
       "    }\n",
       "</style>\n",
       "<table border=\"1\" class=\"dataframe\">\n",
       "  <thead>\n",
       "    <tr style=\"text-align: right;\">\n",
       "      <th></th>\n",
       "      <th>has_online_delivery</th>\n",
       "      <th>votes</th>\n",
       "    </tr>\n",
       "  </thead>\n",
       "  <tbody>\n",
       "    <tr>\n",
       "      <th>1</th>\n",
       "      <td>1</td>\n",
       "      <td>838.821664</td>\n",
       "    </tr>\n",
       "    <tr>\n",
       "      <th>0</th>\n",
       "      <td>0</td>\n",
       "      <td>479.421018</td>\n",
       "    </tr>\n",
       "  </tbody>\n",
       "</table>\n",
       "</div>"
      ],
      "text/plain": [
       "   has_online_delivery       votes\n",
       "1                    1  838.821664\n",
       "0                    0  479.421018"
      ]
     },
     "execution_count": 35,
     "metadata": {},
     "output_type": "execute_result"
    }
   ],
   "source": [
    "df1.loc[:, ['votes', 'has_online_delivery']].groupby('has_online_delivery').mean().reset_index().sort_values('votes', ascending=False)"
   ]
  },
  {
   "cell_type": "markdown",
   "id": "6ba47f52-406d-4d01-b8e1-0bc01339a92c",
   "metadata": {},
   "source": [
    "Resposta: Sim"
   ]
  },
  {
   "cell_type": "markdown",
   "id": "78d7a1fb-9c1a-4f83-9a51-43f857b80c81",
   "metadata": {},
   "source": [
    "### 7. Os restaurantes que fazem reservas são também, na média, os restaurantes que possuem o maior valor médio de um prato para duas pessoas?\n"
   ]
  },
  {
   "cell_type": "code",
   "execution_count": 36,
   "id": "112a35f0-c96a-4924-9f41-8655fbfcc68f",
   "metadata": {},
   "outputs": [
    {
     "data": {
      "text/html": [
       "<div>\n",
       "<style scoped>\n",
       "    .dataframe tbody tr th:only-of-type {\n",
       "        vertical-align: middle;\n",
       "    }\n",
       "\n",
       "    .dataframe tbody tr th {\n",
       "        vertical-align: top;\n",
       "    }\n",
       "\n",
       "    .dataframe thead th {\n",
       "        text-align: right;\n",
       "    }\n",
       "</style>\n",
       "<table border=\"1\" class=\"dataframe\">\n",
       "  <thead>\n",
       "    <tr style=\"text-align: right;\">\n",
       "      <th></th>\n",
       "      <th>has_table_booking</th>\n",
       "      <th>average_cost_for_two</th>\n",
       "    </tr>\n",
       "  </thead>\n",
       "  <tbody>\n",
       "    <tr>\n",
       "      <th>1</th>\n",
       "      <td>1</td>\n",
       "      <td>69998.423810</td>\n",
       "    </tr>\n",
       "    <tr>\n",
       "      <th>0</th>\n",
       "      <td>0</td>\n",
       "      <td>3488.596866</td>\n",
       "    </tr>\n",
       "  </tbody>\n",
       "</table>\n",
       "</div>"
      ],
      "text/plain": [
       "   has_table_booking  average_cost_for_two\n",
       "1                  1          69998.423810\n",
       "0                  0           3488.596866"
      ]
     },
     "execution_count": 36,
     "metadata": {},
     "output_type": "execute_result"
    }
   ],
   "source": [
    "df1.loc[:, ['average_cost_for_two', 'has_table_booking']].groupby('has_table_booking').mean().reset_index().sort_values('average_cost_for_two', ascending=False)"
   ]
  },
  {
   "cell_type": "markdown",
   "id": "20014080-9135-49d4-af84-f7d6721bed43",
   "metadata": {},
   "source": [
    "Resposta: Sim"
   ]
  },
  {
   "cell_type": "markdown",
   "id": "03994d9c-57e0-4015-a792-bc57e7a4ac80",
   "metadata": {},
   "source": [
    "### 8. Os restaurantes do tipo de culinária japonesa dos Estados Unidos da América possuem um valor médio de prato para duas pessoas maior que as churrascarias americanas (BBQ)?"
   ]
  },
  {
   "cell_type": "code",
   "execution_count": 37,
   "id": "1ede15f5-ef88-4dee-a0d0-c01870722fc6",
   "metadata": {},
   "outputs": [
    {
     "data": {
      "text/html": [
       "<div>\n",
       "<style scoped>\n",
       "    .dataframe tbody tr th:only-of-type {\n",
       "        vertical-align: middle;\n",
       "    }\n",
       "\n",
       "    .dataframe tbody tr th {\n",
       "        vertical-align: top;\n",
       "    }\n",
       "\n",
       "    .dataframe thead th {\n",
       "        text-align: right;\n",
       "    }\n",
       "</style>\n",
       "<table border=\"1\" class=\"dataframe\">\n",
       "  <thead>\n",
       "    <tr style=\"text-align: right;\">\n",
       "      <th></th>\n",
       "      <th>country</th>\n",
       "      <th>cuisines</th>\n",
       "      <th>average_cost_for_two</th>\n",
       "    </tr>\n",
       "  </thead>\n",
       "  <tbody>\n",
       "    <tr>\n",
       "      <th>1</th>\n",
       "      <td>United States of America</td>\n",
       "      <td>Japanese</td>\n",
       "      <td>56.406250</td>\n",
       "    </tr>\n",
       "    <tr>\n",
       "      <th>0</th>\n",
       "      <td>United States of America</td>\n",
       "      <td>BBQ</td>\n",
       "      <td>39.642857</td>\n",
       "    </tr>\n",
       "  </tbody>\n",
       "</table>\n",
       "</div>"
      ],
      "text/plain": [
       "                    country  cuisines  average_cost_for_two\n",
       "1  United States of America  Japanese             56.406250\n",
       "0  United States of America       BBQ             39.642857"
      ]
     },
     "execution_count": 37,
     "metadata": {},
     "output_type": "execute_result"
    }
   ],
   "source": [
    "df1.loc[(df1['country'] == 'United States of America') & ((df1['cuisines'] == 'Japanese') | (df1['cuisines'] == 'BBQ')), ['average_cost_for_two', 'country', 'cuisines']].groupby(['country', 'cuisines']).mean().reset_index().sort_values('average_cost_for_two', ascending=False)"
   ]
  },
  {
   "cell_type": "markdown",
   "id": "791d4a68-df1f-47a2-90a9-1d0578ce8361",
   "metadata": {},
   "source": [
    "Resposta: Sim"
   ]
  },
  {
   "cell_type": "markdown",
   "id": "05b36f73-229e-4367-a67c-ae9e3e726bef",
   "metadata": {},
   "source": [
    "## Tipos de Culinária"
   ]
  },
  {
   "cell_type": "markdown",
   "id": "644b9f96-3bb3-405e-94af-21de4d82fe9b",
   "metadata": {},
   "source": [
    "### 1. Dos restaurantes que possuem o tipo de culinária italiana, qual o nome do restaurante com a maior média de avaliação?"
   ]
  },
  {
   "cell_type": "code",
   "execution_count": 38,
   "id": "582462c0-c45a-4f3b-a2a6-7f78725bd8c5",
   "metadata": {},
   "outputs": [
    {
     "data": {
      "text/plain": [
       "'Darshan'"
      ]
     },
     "execution_count": 38,
     "metadata": {},
     "output_type": "execute_result"
    }
   ],
   "source": [
    "df1.loc[df1['cuisines'] == 'Italian', ['restaurant_id', 'restaurant_name', 'aggregate_rating']].sort_values(['aggregate_rating', 'restaurant_id'], ascending=[False, True]).iloc[0, 1]"
   ]
  },
  {
   "cell_type": "markdown",
   "id": "d98082af-51c6-4c00-adb9-8f008b8ce590",
   "metadata": {},
   "source": [
    "### 2. Dos restaurantes que possuem o tipo de culinária italiana, qual o nome do restaurante com a menor média de avaliação?"
   ]
  },
  {
   "cell_type": "code",
   "execution_count": 39,
   "id": "c8876015-d1f7-424f-94b7-29792a5fc4f5",
   "metadata": {},
   "outputs": [
    {
     "data": {
      "text/plain": [
       "'Avenida Paulista'"
      ]
     },
     "execution_count": 39,
     "metadata": {},
     "output_type": "execute_result"
    }
   ],
   "source": [
    "df1.loc[df1['cuisines'] == 'Italian', ['restaurant_id', 'restaurant_name', 'aggregate_rating']].sort_values(['aggregate_rating', 'restaurant_id'], ascending=[True, True]).iloc[0, 1]"
   ]
  },
  {
   "cell_type": "markdown",
   "id": "15a7a6ae-c3f4-43b0-ab0a-86f3efc2f624",
   "metadata": {},
   "source": [
    "### 3. Dos restaurantes que possuem o tipo de culinária americana, qual o nome do restaurante com a maior média de avaliação?\n"
   ]
  },
  {
   "cell_type": "code",
   "execution_count": 40,
   "id": "38634ff1-1844-4339-8894-c1145a5b3b4f",
   "metadata": {},
   "outputs": [
    {
     "data": {
      "text/plain": [
       "'Burger & Lobster'"
      ]
     },
     "execution_count": 40,
     "metadata": {},
     "output_type": "execute_result"
    }
   ],
   "source": [
    "df1.loc[df1['cuisines'] == 'American', ['restaurant_id', 'restaurant_name', 'aggregate_rating']].sort_values(['aggregate_rating', 'restaurant_id'], ascending=[False, True]).iloc[0, 1]"
   ]
  },
  {
   "cell_type": "markdown",
   "id": "4d14c4db-163a-4a86-9905-fff70ce568a1",
   "metadata": {},
   "source": [
    "### 4. Dos restaurantes que possuem o tipo de culinária americana, qual o nome do restaurante com a menor média de avaliação?"
   ]
  },
  {
   "cell_type": "code",
   "execution_count": 41,
   "id": "66fb3abe-384e-436f-af92-e0fc498f7bb6",
   "metadata": {},
   "outputs": [
    {
     "data": {
      "text/plain": [
       "'Alston Bar & Beef'"
      ]
     },
     "execution_count": 41,
     "metadata": {},
     "output_type": "execute_result"
    }
   ],
   "source": [
    "df1.loc[df1['cuisines'] == 'American', ['restaurant_id', 'restaurant_name', 'aggregate_rating']].sort_values(['aggregate_rating', 'restaurant_id'], ascending=[True, True]).iloc[0, 1]"
   ]
  },
  {
   "cell_type": "markdown",
   "id": "2b338845-4bcb-446e-b3be-e720dff666de",
   "metadata": {},
   "source": [
    "### 5. Dos restaurantes que possuem o tipo de culinária árabe, qual o nome do restaurante com a maior média de avaliação?\n"
   ]
  },
  {
   "cell_type": "code",
   "execution_count": 42,
   "id": "0f4ba0f1-99c0-4af5-a7a5-81743c5a18eb",
   "metadata": {},
   "outputs": [
    {
     "data": {
      "text/plain": [
       "'Mandi@36'"
      ]
     },
     "execution_count": 42,
     "metadata": {},
     "output_type": "execute_result"
    }
   ],
   "source": [
    "df1.loc[df1['cuisines'] == 'Arabian', ['restaurant_id', 'restaurant_name', 'aggregate_rating']].sort_values(['aggregate_rating', 'restaurant_id'], ascending=[False, True]).iloc[0, 1]"
   ]
  },
  {
   "cell_type": "markdown",
   "id": "8e02434c-9aaa-42bb-a90a-2f8ee7f31b72",
   "metadata": {},
   "source": [
    "### 6. Dos restaurantes que possuem o tipo de culinária árabe, qual o nome do restaurante com a menor média de avaliação?\n"
   ]
  },
  {
   "cell_type": "code",
   "execution_count": 43,
   "id": "455291a0-306d-45bf-8920-4ecdcc5a1b4e",
   "metadata": {},
   "outputs": [
    {
     "data": {
      "text/plain": [
       "'Raful'"
      ]
     },
     "execution_count": 43,
     "metadata": {},
     "output_type": "execute_result"
    }
   ],
   "source": [
    "df1.loc[df1['cuisines'] == 'Arabian', ['restaurant_id', 'restaurant_name', 'aggregate_rating']].sort_values(['aggregate_rating', 'restaurant_id'], ascending=[True, True]).iloc[0, 1]"
   ]
  },
  {
   "cell_type": "markdown",
   "id": "c49e51a9-e1f2-42cf-b49d-7326a11aadb5",
   "metadata": {},
   "source": [
    "### 7. Dos restaurantes que possuem o tipo de culinária japonesa, qual o nome do restaurante com a maior média de avaliação?"
   ]
  },
  {
   "cell_type": "code",
   "execution_count": 44,
   "id": "59aa7573-da4e-4052-a9a1-8616b0ec8db5",
   "metadata": {},
   "outputs": [
    {
     "data": {
      "text/plain": [
       "'Sushi Samba'"
      ]
     },
     "execution_count": 44,
     "metadata": {},
     "output_type": "execute_result"
    }
   ],
   "source": [
    "df1.loc[df1['cuisines'] == 'Japanese', ['restaurant_id', 'restaurant_name', 'aggregate_rating']].sort_values(['aggregate_rating', 'restaurant_id'], ascending=[False, True]).iloc[0, 1]"
   ]
  },
  {
   "cell_type": "markdown",
   "id": "e66ea7eb-c51d-435e-a3d6-1426422a319b",
   "metadata": {},
   "source": [
    "### 8. Dos restaurantes que possuem o tipo de culinária japonesa, qual o nome do restaurante com a menor média de avaliação?"
   ]
  },
  {
   "cell_type": "code",
   "execution_count": 45,
   "id": "083fed10-4574-466f-953a-0bc8449575ae",
   "metadata": {},
   "outputs": [
    {
     "data": {
      "text/plain": [
       "'Banzai Sushi'"
      ]
     },
     "execution_count": 45,
     "metadata": {},
     "output_type": "execute_result"
    }
   ],
   "source": [
    "df1.loc[df1['cuisines'] == 'Japanese', ['restaurant_id', 'restaurant_name', 'aggregate_rating']].sort_values(['aggregate_rating', 'restaurant_id'], ascending=[True, True]).iloc[0, 1]"
   ]
  },
  {
   "cell_type": "markdown",
   "id": "d4f9cbcf-9c84-4dbd-8f22-349ca3953e63",
   "metadata": {},
   "source": [
    "### 9. Dos restaurantes que possuem o tipo de culinária caseira, qual o nome do restaurante com a maior média de avaliação?\n"
   ]
  },
  {
   "cell_type": "code",
   "execution_count": 46,
   "id": "2eca1ca5-6173-4b6a-a607-9b34aa403c3a",
   "metadata": {},
   "outputs": [
    {
     "data": {
      "text/plain": [
       "'Kanaat Lokantası'"
      ]
     },
     "execution_count": 46,
     "metadata": {},
     "output_type": "execute_result"
    }
   ],
   "source": [
    "df1.loc[df1['cuisines'] == 'Home-made', ['restaurant_id', 'restaurant_name', 'aggregate_rating']].sort_values(['aggregate_rating', 'restaurant_id'], ascending=[False, True]).iloc[0, 1]"
   ]
  },
  {
   "cell_type": "markdown",
   "id": "da78ebf1-c345-4296-a1e0-485f6abfa518",
   "metadata": {},
   "source": [
    "### 10. Dos restaurantes que possuem o tipo de culinária caseira, qual o nome do restaurante com a menor média de avaliação?\n"
   ]
  },
  {
   "cell_type": "code",
   "execution_count": 47,
   "id": "d68326e7-3e87-484e-aa81-eede5a7ffdfc",
   "metadata": {},
   "outputs": [
    {
     "data": {
      "text/plain": [
       "'GurMekan Restaurant'"
      ]
     },
     "execution_count": 47,
     "metadata": {},
     "output_type": "execute_result"
    }
   ],
   "source": [
    "df1.loc[df1['cuisines'] == 'Home-made', ['restaurant_id', 'restaurant_name', 'aggregate_rating']].sort_values(['aggregate_rating', 'restaurant_id'], ascending=[True, True]).iloc[0, 1]"
   ]
  },
  {
   "cell_type": "markdown",
   "id": "c772da27-6429-4200-90b6-4ac6c7e521b1",
   "metadata": {},
   "source": [
    "### 11. Qual o tipo de culinária que possui o maior valor médio de um prato para duas pessoas?"
   ]
  },
  {
   "cell_type": "code",
   "execution_count": 48,
   "id": "c87adb86-4533-4bc8-a31d-d73883a1c542",
   "metadata": {},
   "outputs": [
    {
     "data": {
      "text/plain": [
       "'Modern Australian'"
      ]
     },
     "execution_count": 48,
     "metadata": {},
     "output_type": "execute_result"
    }
   ],
   "source": [
    "df1.loc[:, ['average_cost_for_two', 'cuisines']].groupby('cuisines').mean().reset_index().sort_values('average_cost_for_two', ascending=False).iloc[0, 0]"
   ]
  },
  {
   "cell_type": "markdown",
   "id": "346c6bd2-19fa-431c-b652-5566441ad7cc",
   "metadata": {},
   "source": [
    "### 12. Qual o tipo de culinária que possui a maior nota média?"
   ]
  },
  {
   "cell_type": "code",
   "execution_count": 49,
   "id": "99c87cd7-c956-4c17-8672-223cd1ef615f",
   "metadata": {},
   "outputs": [
    {
     "data": {
      "text/plain": [
       "'Others'"
      ]
     },
     "execution_count": 49,
     "metadata": {},
     "output_type": "execute_result"
    }
   ],
   "source": [
    "df1.loc[:, ['aggregate_rating', 'cuisines']].groupby('cuisines').mean().reset_index().sort_values('aggregate_rating', ascending=False).iloc[0, 0]"
   ]
  },
  {
   "cell_type": "markdown",
   "id": "14b9b10c-7609-4bf2-b412-072cb9c0ee31",
   "metadata": {},
   "source": [
    "### 13. Qual o tipo de culinária que possui mais restaurantes que aceitam pedidos online e fazem entregas?\n"
   ]
  },
  {
   "cell_type": "code",
   "execution_count": 50,
   "id": "ff8f0a00-8585-4aa2-8111-2596706eefd5",
   "metadata": {},
   "outputs": [
    {
     "data": {
      "text/plain": [
       "'North Indian'"
      ]
     },
     "execution_count": 50,
     "metadata": {},
     "output_type": "execute_result"
    }
   ],
   "source": [
    "df1.loc[(df1['has_online_delivery'] == 1) & (df1['is_delivering_now'] == 1), ['restaurant_id', 'cuisines']].groupby('cuisines').count().reset_index().sort_values('restaurant_id', ascending=False).iloc[0, 0]"
   ]
  }
 ],
 "metadata": {
  "kernelspec": {
   "display_name": "Python 3 (ipykernel)",
   "language": "python",
   "name": "python3"
  },
  "language_info": {
   "codemirror_mode": {
    "name": "ipython",
    "version": 3
   },
   "file_extension": ".py",
   "mimetype": "text/x-python",
   "name": "python",
   "nbconvert_exporter": "python",
   "pygments_lexer": "ipython3",
   "version": "3.8.18"
  }
 },
 "nbformat": 4,
 "nbformat_minor": 5
}
